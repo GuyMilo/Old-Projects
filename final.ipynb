{
 "cells": [
  {
   "cell_type": "markdown",
   "metadata": {},
   "source": [
    "# NE 111 Final"
   ]
  },
  {
   "cell_type": "markdown",
   "metadata": {},
   "source": [
    "**Aids:** You may use tools such as Jupyter Notebook (without opening other files), iPython, and a Text Editor with syntax highlighting and basic autocomplete. However, access to the lecture/exercise content or other resources on your computer, the Internet, etc. is forbidden.\n",
    "\n",
    "**Length**: 2.5 hours, **including submission**\n",
    "\n",
    "**Instructions (in addition to LEARN Announcement)**:\n",
    "\n",
    "1. Complete exam identification information and academic integrity statement in the following cell.\n",
    "2. Complete exam the problems. Each problem will give you instructions on how to complete it properly. **Save your work often.**\n",
    "3. Unless explicitly asked for it, you do not have to check the types of your input. Assume that the types are correct.\n",
    "4. When you are finished, in this notebook, go to File -> Download As -> Python (.py). **Do not leave this to the last minute. Periodically try this to make sure that you can submit**.\n",
    "5. Submit using instructions in the LEARN announcement.\n",
    "6. You may submit the exam as many times as you wish, only your last submission will be graded.\n",
    "7. Once you have left the exam room, no further submissions will be accepted.\n",
    "8. If you wish to leave early **you must** get approval from the instructor, not the TAs, and have them sign you out.\n",
    "\n",
    "## Academic Integrity Statement\n",
    "\n",
    "* All electronic devices are prohibited during the exam except for the following uses:\n",
    "    - Checking the LEARN news item for this exam periodically for any clarifications or corrections.\n",
    "    - Completing the exam (Jupyter Notebook, Interactive Python Interpreter, Text Editor with/without syntax highlighting and basic autocomplete)\n",
    "* No aids, references, or notes are allowed that are not specified above.\n",
    "* No communication with anyone, other than the course instructor, is allowed during the exam period unless there is an emergency.\n",
    "* No sharing of the exam content in anyway, doing so is a serious academic integrity offense which will result in, at minimum, failure of the exam and referal to the Associate Dean of Undergraduate Studies for further discipline.\n",
    "\n",
    "Your digital signature below confirms your understanding of the exam instructions, the university’s [academic integrity policy](https://uwaterloo.ca/academic-integrity/integrity-students), and that the solution to the exam that you submit is your own work."
   ]
  },
  {
   "cell_type": "code",
   "execution_count": null,
   "metadata": {},
   "outputs": [],
   "source": [
    "# Enter your full name and student ID as strings\n",
    "Student_Name = \"James-Edward Gray\"\n",
    "Student_ID   = \"21015159\"\n",
    "\n",
    "# Your exam WILL NOT be graded unless you changing this value to True to \n",
    "# indicate that you understand and confirm the academic integrity statement above.\n",
    "Academic_Integrity = True"
   ]
  },
  {
   "cell_type": "markdown",
   "metadata": {},
   "source": [
    "**Please remember to import NumPy before proceeding.** You are allowed to modify the import statement however you prefer but please remember that the concept questions have been designed with these import statements in mind."
   ]
  },
  {
   "cell_type": "code",
   "execution_count": null,
   "metadata": {},
   "outputs": [],
   "source": [
    "import numpy as np"
   ]
  },
  {
   "cell_type": "markdown",
   "metadata": {},
   "source": [
    "## Problem 1 Multiple Choice (5 points, 1 pt/each)\n",
    "\n",
    "Instructions: Enter your answers in the code block that follows.\n",
    "\n",
    "**1.** Which of these collections are mutable?\n",
    "\n",
    "> **a)**  `str`\n",
    "\n",
    "> **b)**  `list`\n",
    "\n",
    "> **c)**  `dict`\n",
    "\n",
    "> **d)**  `tuple`\n",
    "\n",
    "> **e)**  `set`\n",
    "\n",
    "\n",
    "**2.** Consider the following code :\n",
    "```python \n",
    "def sort_list(alist):\n",
    "    if sorted(alist)!=alist:\n",
    "        sorted_list=alist.sort()\n",
    "        return sorted_list\n",
    "    else:\n",
    "        return a_list\n",
    "```\n",
    "\n",
    "which of the following statements are **True**\n",
    "\n",
    "> **a)**  If we call the function on an unsorted list, it would return the sorted list. \n",
    "    \n",
    "> **b)**  There is at least one error in the code.\n",
    "\n",
    "> **c)**  The `sorted` and `.sort()` methods both return the same result.\n",
    "\n",
    "\n",
    "**3.** If `list1 = [6, 7, 8, 9]`, which of the following returns the list `[9, 8, 7, 6]` **without** changing the original list?\n",
    "\n",
    "> **a)** `list1.reverse()`\n",
    "\n",
    "> **b)** `list1[len(list1)::-1]`\n",
    "\n",
    "> **c)** `list1[::-1]`\n",
    "\n",
    "> **d)** `list1.sort(reverse=True)`\n",
    "\n",
    "\n",
    "**4.** Which of the following methods are incorrect for determining the average of all the numbers in a multidimensional array `A`?\n",
    "\n",
    "> **a)**  `np.mean(A)`\n",
    "\n",
    "> **b)**  `np.average(A)`\n",
    "\n",
    "> **c)**  `np.sum(A)/A.size`\n",
    "\n",
    "> **d)**  `np.sum(A)/len(A)`\n",
    "\n",
    "> **e)**  `np.add(A)/A.size`\n",
    "\n",
    "\n",
    "**5.** Given the array $A$. Which of the following methods for making a new array, named $b$, would result in changes in $A$ if the values in $b$ are changed?\n",
    "\n",
    "$$ \n",
    "A = \\left[ \\begin{array}{cccc}\n",
    "5 & 6 & 7 & 8 \\\\\n",
    "9 & 10 & 11 & 12\\\\\n",
    "13 & 14 & 15 & 16 \\\\\n",
    "17 & 18 & 19 & 20 \\end{array} \\right], \\quad \n",
    "$$\n",
    "\n",
    "> **a)** `b=A.flatten()`\n",
    "\n",
    "> **b)** `b=A.ravel()`\n",
    "\n",
    "> **c)** `b=A.view()`\n",
    "\n",
    "> **d)** `b=A`"
   ]
  },
  {
   "cell_type": "code",
   "execution_count": null,
   "metadata": {},
   "outputs": [],
   "source": [
    "# Enter your Multiple Choice  answers here\n",
    "MC_1 = \"abce\"  # E.g. \"\", \"a\", \"ab\", etc.\n",
    "MC_2 = \"b\" \n",
    "MC_3 = \"bc\"\n",
    "MC_4 = \"e\"\n",
    "MC_5 = \"ab\""
   ]
  },
  {
   "cell_type": "markdown",
   "metadata": {},
   "source": [
    "## Problem 2 (5 points)\n",
    "Complete the function according to its docstring."
   ]
  },
  {
   "cell_type": "code",
   "execution_count": null,
   "metadata": {},
   "outputs": [],
   "source": [
    "def find_location_of_first(input_string, character):\n",
    "    if type(input_string) != str or type(character) != str:\n",
    "        print(\"Invalid input\")\n",
    "        return(None)\n",
    "    elif len(character) > 1:\n",
    "        return None\n",
    "\n",
    "    else:\n",
    "        return({x for x in input_string if x == character})\n",
    "    \n",
    "    \n",
    "    '''\n",
    "    (str, str) -> int\n",
    "\n",
    "    This function takes two arguments, `input_string`, a string of some length and `character` a string containing a single character.\n",
    "    It returns the index of the first occurance of the `character` in `input_string`.\n",
    "\n",
    "    If the inputs are invalid or if `character` does not occur in `input_string` return None.\n",
    "\n",
    "    >>> find_location_of_first(123, 47)\n",
    "    None  # Invalid input\n",
    "\n",
    "    >>> find_location_of_first('HELLO', 'H')\n",
    "    0\n",
    "\n",
    "    >>> find_location_of_first('HELLO', 'L')\n",
    "    2  # Find the first 'L'\n",
    "\n",
    "    >>> find_location_of_first('HELLO', 10)\n",
    "    None  # Invalid input\n",
    "\n",
    "    >>> find_location_of_first('HELLO', 'P')\n",
    "    None  # `character` isn't in the `input_string`\n",
    "    '''\n",
    "    pass"
   ]
  },
  {
   "cell_type": "markdown",
   "metadata": {},
   "source": [
    "## Problem 3 (5 points)\n",
    "Complete the function according to its docstring."
   ]
  },
  {
   "cell_type": "code",
   "execution_count": null,
   "metadata": {},
   "outputs": [],
   "source": [
    "def count_down(n):\n",
    "    if type(n) != int:\n",
    "        print(\"please enter an integer\")\n",
    "        return None\n",
    "    else:\n",
    "        if n < 0:\n",
    "            n = abs(n)\n",
    "            print(\"next time enter positive int\")\n",
    "            tuplea = tuple(sorted(range(1,n+1), reverse=True))\n",
    "            return(tuplea)\n",
    "        elif n == 0:\n",
    "            return None\n",
    "        else:\n",
    "            tuplea = tuple(sorted(range(1,n+1), reverse=True))\n",
    "            return(tuplea)\n",
    "count_down()\n"
   ]
  },
  {
   "cell_type": "markdown",
   "metadata": {},
   "source": [
    "## Problem 4 (5 points)\n",
    "Complete the function according to its docstring."
   ]
  },
  {
   "cell_type": "code",
   "execution_count": null,
   "metadata": {},
   "outputs": [],
   "source": [
    "\n",
    "def sum_of_digits(number):\n",
    "    return sum(int(digit) for digit in str(number))\n",
    "    \n",
    "    '''\n",
    "    int -> int\n",
    "\n",
    "    Return, as an integer, the sum of digits for the provided integer `number`.\n",
    "\n",
    "    >>> sum_of_digits(23)\n",
    "    5  # 2 + 3\n",
    "\n",
    "    >>> sum_of_digits(100)\n",
    "    1  # 1 + 0 + 0\n",
    "\n",
    "    >>> sum_of_digits(12345)\n",
    "    15  # 1 + 2 + 3 + 4 + 5 \n",
    "    '''\n",
    "\n",
    "sum_of_digits()"
   ]
  },
  {
   "cell_type": "markdown",
   "metadata": {},
   "source": [
    "## Problem 5 (10 points)\n",
    "Complete the function according to its docstring.\n",
    "\n",
    "**DO NOT USE THE BUILT-IN max(), numpy.max(), OR ANY OTHER BUILT-IN MAX FUNCTION. YOU MUST WRITE IT YOURSELF. USING THE BUILT-IN FUNCTIONS WILL RESULT IN A GRADE OF ZERO ON THIS QUESTION.**"
   ]
  },
  {
   "cell_type": "code",
   "execution_count": null,
   "metadata": {},
   "outputs": [],
   "source": [
    "def max_of_list(input_list):\n",
    "\tif len(input_list) == 0:\n",
    "\t\treturn(None)\n",
    "\telse:\n",
    "\t\tnewlist = sorted(input_list, reverse=True)\n",
    "\t\treturn(newlist[0])\n",
    "max_of_list()\n"
   ]
  },
  {
   "cell_type": "markdown",
   "metadata": {},
   "source": [
    "## Problem 6 (10 points)\n",
    "Complete the function according to its docstring.\n",
    "\n",
    "**DO NOT USE TRY-EXCEPT. DOING SO WILL RESULT IN ZERO MARKS FOR THIS QUESTION.**"
   ]
  },
  {
   "cell_type": "code",
   "execution_count": null,
   "metadata": {},
   "outputs": [],
   "source": [
    "def can_apply_operations(array1, array2):\n",
    "    if array1.ndim == array2.ndim:\n",
    "        if array1.shape[:] != array2.shape[:]:\n",
    "            return(False)\n",
    "    elif array1.ndim != array2.ndim and array1.ndim or array2.ndim != 1:\n",
    "        if array1[0:] != array2[0:] or array1[:1] != array2[0:]:\n",
    "            print(False)\n",
    "    elif array1.ndim != array2.ndim and array1.ndim or array2.ndim == 1:\n",
    "        if array1[0] != array2[0] or array1[0] != array2[1:0]:\n",
    "            print(False)\n",
    "    else:\n",
    "        print(True)\n",
    "    can_apply_operations()\n",
    "    '''\n",
    "    (ndarray, ndarray) -> bool\n",
    "\n",
    "    **DO NOT USE TRY-EXCEPT. DOING SO WILL RESULT IN ZERO MARKS FOR THIS QUESTION.**\n",
    "\n",
    "    Return a `True` if binary arithmetic opertions (+, -, \\*, etc) \n",
    "    can be applied on the arrays `array1` and `array2`, or `False` otherwise.\n",
    "\n",
    "    >>> can_apply_operations(np.array([1, 2]), np.array([[1, 1], [2, 2]]))\n",
    "    True\n",
    "\n",
    "    >>> can_apply_operations(np.array([1, 2, 1]), np.array([[1, 1], [2, 2]]))\n",
    "    False\n",
    "\n",
    "    >>> can_apply_operations(np.array([[1, 2], [3, 4]]), np.array([[[9, 8], [7, 6]], [[5, 4], [3, 2]], [[1, 0], [1, 2]]]))\n",
    "    True\n",
    "    '''\n",
    "    pass"
   ]
  },
  {
   "cell_type": "markdown",
   "metadata": {},
   "source": [
    "## **OPTIONAL BONUS:** Problem 7 (1 point)\n",
    "This question is completely optional. There are no part marks for this question.\n",
    "\n",
    "Complete the function according to its docstring."
   ]
  },
  {
   "cell_type": "code",
   "execution_count": null,
   "metadata": {},
   "outputs": [],
   "source": [
    "def merge_dictionary(a, b):\n",
    "    '''\n",
    "    (dict, dict) -> dict\n",
    "\n",
    "    This function takes two dictionaries, `a` and `b`, and returns a new dictionary, `c`, containing the entries from both `a` and `b`. \n",
    "\n",
    "    Both `a` and `b` will use strings as keys, and lists as values.\n",
    "    If a key, `K`, is present in both `a` and `b` then the new dictionary should have an entry for it \n",
    "    and the value associated with `K` should be the result of concatenating the values in `a[K]` and `b[K]`, in that order.\n",
    "\n",
    "    Note: DO NOT modify either `a` or `b`. Take care not to do this directly, or indirectly.\n",
    "\n",
    "    >>> merge_dictionary({'hello': ['world']}, {'beep': ['boop']})\n",
    "    {'hello': ['world'], 'beep': ['boop']}\n",
    "\n",
    "    >>> merge_dictionary({'hello': ['world']}, {'hello': ['moto']})\n",
    "    {'hello': ['world', 'moto']} # 'hello' is key for both `a` and `b`, so `a['hello']` is concentenated with `b['hello']`\n",
    "    '''\n",
    "    pass"
   ]
  }
 ],
 "metadata": {
  "kernelspec": {
   "display_name": "Python 3 (ipykernel)",
   "language": "python",
   "name": "python3"
  },
  "language_info": {
   "codemirror_mode": {
    "name": "ipython",
    "version": 3
   },
   "file_extension": ".py",
   "mimetype": "text/x-python",
   "name": "python",
   "nbconvert_exporter": "python",
   "pygments_lexer": "ipython3",
   "version": "3.11.5"
  }
 },
 "nbformat": 4,
 "nbformat_minor": 2
}
