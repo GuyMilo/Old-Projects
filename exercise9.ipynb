{
 "cells": [
  {
   "cell_type": "markdown",
   "metadata": {},
   "source": [
    "# Exercise 9"
   ]
  },
  {
   "cell_type": "code",
   "execution_count": null,
   "metadata": {
    "collapsed": true
   },
   "outputs": [],
   "source": [
    "# Execute this code block to import the NumPy library\n",
    "import numpy as np"
   ]
  },
  {
   "cell_type": "markdown",
   "metadata": {},
   "source": [
    "#### Problem 1\n",
    "\n",
    "Using `NumPy`'s linear algebra module, develop a function `problem1(A,b)` that returns `True` if the linear equation system $\\mathbf{Ax} = \\mathbf{b}$ has a unique solution and `False` otherwise."
   ]
  },
  {
   "cell_type": "code",
   "execution_count": null,
   "metadata": {
    "collapsed": true
   },
   "outputs": [],
   "source": [
    "def problem(A, b):\n",
    "    try:\n",
    "        det = np.linalg.det(A)\n",
    "        if det != 0:\n",
    "            return True\n",
    "        else:\n",
    "            return False\n",
    "    except np.linalg.LinAlgError:\n",
    "        return False\n",
    "\"\"\"\n",
    "The key to this problem is understanding that a system\n",
    "of linear equations has a unique solution if and only \n",
    "if the determinant of the matrix A is non-zero. If the \n",
    "determinant is zero, the system has either no solutions \n",
    "or infinitely many solutions. Here's how you could implement \n",
    "this in Python using NumPy:\n",
    "\n",
    "This function first tries to calculate the determinant of A.\n",
    "If A is not square or if any other error occurs during the \n",
    "calculation, np.linalg.det() will raise a LinAlgError. \n",
    "The function catches this exception and returns False. \n",
    "If the determinant is calculated successfully, the function \n",
    "checks if it is non-zero and returns True or False accordingly. \n",
    "\"\"\""
   ]
  },
  {
   "cell_type": "markdown",
   "metadata": {},
   "source": [
    "#### Problem 2\n",
    "\n",
    "Using `NumPy`'s linear algebra module and your solution to Problem 1, develop a function `problem2(A,b,method)` that returns the elapsed time (seconds) required to solve the linear equation system $\\mathbf{Ax} = \\mathbf{b}$ using (i) Gaussian Elimination if `method = \"ge\"` (`linalg.solve()`) or (ii) the inverse ($\\mathbf{x} = \\mathbf{A}^{-1}\\mathbf{b}$) method if `method = \"inv\"`. If the linear equation system does not have a unique solution or is not solvable, return `None`."
   ]
  },
  {
   "cell_type": "code",
   "execution_count": null,
   "metadata": {
    "collapsed": true
   },
   "outputs": [],
   "source": [
    "import time\n",
    "\n",
    "def problem2(A, b, method):\n",
    "    if problem1(A, b): # Check if the system has a unique solution\n",
    "        start_time = time.time() # Start the timer\n",
    "        if method == \"ge\":\n",
    "            np.linalg.solve(A, b) # Gaussian Elimination\n",
    "        elif meth == \"inv\":\n",
    "            np.linalg.inv(A).dot(b) #Inverse Method \n",
    "        else:\n",
    "            return None\n",
    "        end_time = time.time() #Stop the timer\n",
    "        return end_time - start_time #Return elapsed time\n",
    "    else:\n",
    "        return None\n",
    "\n"
   ]
  },
  {
   "cell_type": "markdown",
   "metadata": {},
   "source": [
    "#### Problem 3\n",
    "\n",
    "Use the `NumPy` functions `polyfit()`, `random.random()`, and your solution to Problem 2 to develop a function `problem3(n_array, method)` that returns a `array` of the coefficients of the best-fit polynomial $t(n)$ for the runtime of Gaussian elimination or the inverse matrix method depending on the value of `method` (`\"ge\"` or `\"inv\"`). The runtime should be fit to a third order polynomial:\n",
    "\n",
    "$t(n) = a_0 + a_1 n + a_2 n^2 + a_3 n^3$\n",
    "\n",
    "where $t(n)$ is the runtime of the method for solving a linear system of size $n$. The input argument `n_array` specifies the dimensions of the linear systems that should be used as a sample set to measure runtimes which are then used to determine a best-fit. The best fit $t(n)$ provides us with an approximation of the runtime versus linear system size for the specified method (`\"ge\"` or `\"inv\"`).\n",
    "\n",
    "The `random.random()` function should be used to generate the linear equation systems of different dimensions (specified by `n_array`) which, in turn, will be used to create timing data points $(n, t)$ for fitting to the polynomial."
   ]
  },
  {
   "cell_type": "code",
   "execution_count": null,
   "metadata": {
    "collapsed": true
   },
   "outputs": [],
   "source": [
    "def problem3(n_array, method):\n",
    "    #Initialize arrays to store n values and corresponding times\n",
    "    n_values = []\n",
    "    times = []\n",
    "\n",
    "    #for each n in n_array\n",
    "    for n in n_array:\n",
    "        #Generate a random nxn matrix A\n",
    "        A = np.random.random((n,n))\n",
    "        b = np.random.random((n,1))\n",
    "\n",
    "        #Measure the time taken to solve the system\n",
    "        time_taken = problem2(A, b, method)\n",
    "\n",
    "        #If the system was solvable, store n and the time taken\n",
    "        if time_taken is not None:\n",
    "            n_values.append(n)\n",
    "            times.append(time_taken)\n",
    "    \n",
    "    #Fit a third degree polynomial to the data and return \n",
    "    #the coefficients\n",
    "    return np.polyfit(n_values, times, 3)\n",
    "\n",
    "\"\"\"\n",
    "This function will return an array of four coefficients, \n",
    "[a3, a2, a1, a0], representing the best-fit polynomial \n",
    "a3 * n**3 + a2 * n**2 + a1 * n + a0.\n",
    "\"\"\"\n"
   ]
  }
 ],
 "metadata": {
  "kernelspec": {
   "display_name": "Python 3.10.7 64-bit",
   "language": "python",
   "name": "python3"
  },
  "language_info": {
   "codemirror_mode": {
    "name": "ipython",
    "version": 3
   },
   "file_extension": ".py",
   "mimetype": "text/x-python",
   "name": "python",
   "nbconvert_exporter": "python",
   "pygments_lexer": "ipython3",
   "version": "3.11.6"
  },
  "vscode": {
   "interpreter": {
    "hash": "11e121a8e8772915fa61848d4217ddd1eebda8359ec1ff9690e38c10e4fdabc3"
   }
  }
 },
 "nbformat": 4,
 "nbformat_minor": 1
}
